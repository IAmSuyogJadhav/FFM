{
 "cells": [
  {
   "cell_type": "markdown",
   "metadata": {},
   "source": [
    "# Load CalTech101 dataset"
   ]
  },
  {
   "cell_type": "code",
   "execution_count": 1,
   "metadata": {},
   "outputs": [],
   "source": [
    "import torch\n",
    "import torchvision.models as models\n",
    "import torch.nn as nn\n",
    "import torch.nn.functional as F\n",
    "import torch.optim as optim\n",
    "import numpy as np\n",
    "import random\n",
    "import time\n",
    "import os\n",
    "from torchvision import datasets, transforms\n",
    "from torch.utils.data import DataLoader\n",
    "import wandb\n",
    "import datetime\n",
    "from tqdm.auto import tqdm"
   ]
  },
  {
   "cell_type": "code",
   "execution_count": 2,
   "metadata": {},
   "outputs": [],
   "source": [
    "from typing import Any\n",
    "\n",
    "_batch_sizes = {\n",
    "    \"resnet18\": 64,\n",
    "    \"resnet34\": 64,\n",
    "    \"resnet50\": 32,\n",
    "    \"resnet101\": 16,\n",
    "}\n",
    "\n",
    "class Config:\n",
    "    seed = 42\n",
    "    lr = 0.001\n",
    "    epochs = 10\n",
    "    device = \"cuda\" if torch.cuda.is_available() else \"cpu\"\n",
    "    model = \"resnet101\" # resnet18, resnet34, resnet50, resnet101, resnet152\n",
    "    batch_size = _batch_sizes[model]\n",
    "    suffix = datetime.datetime.now().strftime(\"%Y%m%d-%H%M%S\")\n",
    "    save_dir = f\"checkpoints/{model}-{suffix}\"\n"
   ]
  },
  {
   "cell_type": "code",
   "execution_count": 3,
   "metadata": {},
   "outputs": [],
   "source": [
    "# Grayscale to RGB transform\n",
    "class GrayscaleToRGB(object):\n",
    "    \"\"\"From https://www.kaggle.com/code/cafalena/caltech101-pytorch-deep-learning\"\"\"\n",
    "    def __call__(self, img):\n",
    "        if img.mode == 'L':\n",
    "            img = img.convert(\"RGB\")\n",
    "        return img\n",
    "\n",
    "transform = transforms.Compose(\n",
    "    [transforms.Resize((224, 224)),\n",
    "    GrayscaleToRGB(),\n",
    "    transforms.ToTensor(),\n",
    "    transforms.Normalize(mean=[0.485, 0.456, 0.406],\n",
    "                        std=[0.229, 0.224, 0.225])]\n",
    "    )\n",
    "\n",
    "\n",
    "# Load Caltech101 dataset\n",
    "def load_data():\n",
    "    dataset = datasets.Caltech101(root='caltech_data', download=False, transform=transform)\n",
    "\n",
    "    return dataset\n",
    "\n",
    "# Split dataset into training and testing\n",
    "def split_data(dataset):\n",
    "    train_size = int(0.8 * len(dataset))\n",
    "    test_size = len(dataset) - train_size\n",
    "    train_dataset, test_dataset = torch.utils.data.random_split(dataset, [train_size, test_size], generator=torch.Generator().manual_seed(Config.seed))\n",
    "    return train_dataset, test_dataset\n",
    "\n",
    "\n",
    "# Train with early stopping and adamw optimizer with learning rate scheduler and log to wandb\n",
    "def train(model: Any, train_loader: Any, test_loader: Any, config: Config, logging: bool = True):\n",
    "    model.to(config.device)\n",
    "    optimizer = optim.AdamW(model.parameters(), lr=config.lr)\n",
    "    if config.model != \"resnet101\":\n",
    "        scheduler = optim.lr_scheduler.StepLR(optimizer, step_size=5, gamma=0.1)\n",
    "    else:\n",
    "        scheduler = optim.lr_scheduler.StepLR(optimizer, step_size=5, gamma=0.1)\n",
    "\n",
    "    criterion = nn.CrossEntropyLoss()\n",
    "\n",
    "    # Main training loop\n",
    "    best_acc = 0\n",
    "    pbar = tqdm(total=config.epochs, desc=\"Epochs\")\n",
    "    for epoch in range(config.epochs):\n",
    "        model.train()\n",
    "        train_correct = 0\n",
    "        for batch_idx, (data, target) in tqdm(enumerate(train_loader), total=len(train_loader), desc=\"Training\", leave=False):\n",
    "            data, target = data.to(config.device), target.to(config.device)\n",
    "            optimizer.zero_grad()\n",
    "            output = model(data)\n",
    "            loss = criterion(output, target)\n",
    "            loss.backward()\n",
    "            optimizer.step()\n",
    "            # print(f\"Train Epoch: {epoch} [{batch_idx * len(data)}/{len(train_loader.dataset)} \"\n",
    "            #         f\"({100. * batch_idx / len(train_loader):.0f}%)]\\tLoss: {loss.item():.6f}\")\n",
    "\n",
    "            # Log loss\n",
    "            if logging:\n",
    "                wandb.log({\"train_loss\": loss.item(), \"epoch\": epoch})\n",
    "            with torch.no_grad():\n",
    "                pred = output.argmax(dim=1, keepdim=True)\n",
    "                train_correct += pred.eq(target.view_as(pred)).sum().item()\n",
    "            \n",
    "            # Update progress bar\n",
    "            pbar.set_postfix({\"train_loss\": loss.item()})\n",
    "        \n",
    "        # Update progress bar\n",
    "        pbar.update(1)\n",
    "        \n",
    "        # Log training accuracy and test accuracy\n",
    "        model.eval()\n",
    "        test_loss = 0\n",
    "        correct = 0\n",
    "        with torch.no_grad():\n",
    "            for data, target in tqdm(test_loader, desc=\"Testing\", leave=False):\n",
    "                data, target = data.to(config.device), target.to(config.device)\n",
    "                output = model(data)\n",
    "                test_loss += criterion(output, target).item()\n",
    "                pred = output.argmax(dim=1, keepdim=True)\n",
    "                correct += pred.eq(target.view_as(pred)).sum().item()\n",
    "\n",
    "        test_loss /= len(test_loader.dataset)\n",
    "        test_acc = 100. * correct / len(test_loader.dataset)\n",
    "        train_acc = 100. * train_correct / len(train_loader.dataset)\n",
    "        print(f\"\\nTest set: Average loss: {test_loss:.4f}, Accuracy: {correct}/{len(test_loader.dataset)} \"\n",
    "                f\"({test_acc:.0f}%)\\n\")\n",
    "        print(f\"Train set: Accuracy: {train_correct}/{len(train_loader.dataset)} ({train_acc:.0f}%)\\n\")\n",
    "        if logging:\n",
    "            wandb.log({\"test_loss\": test_loss, \"test_acc\": test_acc, \"train_acc\": train_acc, \"epoch\": epoch, \"lr\": scheduler.get_last_lr()[0]})\n",
    "\n",
    "        # Update progress bar\n",
    "        pbar.set_postfix({\"test_loss\": test_loss, \"test_acc\": test_acc, \"train_acc\": train_acc})\n",
    "        \n",
    "        # Save model if test accuracy is better\n",
    "        if test_acc > best_acc and logging:\n",
    "            best_acc = test_acc\n",
    "            torch.save(model.state_dict(), os.path.join(config.save_dir, \"model.pth\"))\n",
    "            print(f\"Model saved at {config.save_dir}\")\n",
    "\n",
    "        scheduler.step()\n",
    "\n",
    "# Load pretrained ResNet model\n",
    "def load_model(model_name: str):\n",
    "    model = getattr(models, model_name)(pretrained=True)\n",
    "    model.fc = nn.Linear(model.fc.in_features, 101)\n",
    "    return model"
   ]
  },
  {
   "cell_type": "code",
   "execution_count": 4,
   "metadata": {},
   "outputs": [],
   "source": [
    "dataset = load_data()\n",
    "train_dataset, test_dataset = split_data(dataset)\n",
    "train_loader = DataLoader(train_dataset, batch_size=Config.batch_size, shuffle=True)\n",
    "test_loader = DataLoader(test_dataset, batch_size=Config.batch_size, shuffle=False)"
   ]
  },
  {
   "cell_type": "code",
   "execution_count": 5,
   "metadata": {},
   "outputs": [
    {
     "data": {
      "text/plain": [
       "(1736, 6941)"
      ]
     },
     "execution_count": 5,
     "metadata": {},
     "output_type": "execute_result"
    }
   ],
   "source": [
    "len(test_dataset), len(train_dataset)"
   ]
  },
  {
   "cell_type": "code",
   "execution_count": 5,
   "metadata": {},
   "outputs": [
    {
     "name": "stderr",
     "output_type": "stream",
     "text": [
      "/home/suyog/anaconda3/envs/cellstory/lib/python3.10/site-packages/torchvision/models/_utils.py:208: UserWarning: The parameter 'pretrained' is deprecated since 0.13 and may be removed in the future, please use 'weights' instead.\n",
      "  warnings.warn(\n",
      "/home/suyog/anaconda3/envs/cellstory/lib/python3.10/site-packages/torchvision/models/_utils.py:223: UserWarning: Arguments other than a weight enum or `None` for 'weights' are deprecated since 0.13 and may be removed in the future. The current behavior is equivalent to passing `weights=ResNet101_Weights.IMAGENET1K_V1`. You can also use `weights=ResNet101_Weights.DEFAULT` to get the most up-to-date weights.\n",
      "  warnings.warn(msg)\n"
     ]
    },
    {
     "name": "stdout",
     "output_type": "stream",
     "text": [
      "Warming up the last layer\n"
     ]
    },
    {
     "data": {
      "application/vnd.jupyter.widget-view+json": {
       "model_id": "5d310b999e9f4387ade67f9096f46f93",
       "version_major": 2,
       "version_minor": 0
      },
      "text/plain": [
       "Epochs:   0%|          | 0/2 [00:00<?, ?it/s]"
      ]
     },
     "metadata": {},
     "output_type": "display_data"
    },
    {
     "data": {
      "application/vnd.jupyter.widget-view+json": {
       "model_id": "6e0640bd514b45ecbbf8461b351a836a",
       "version_major": 2,
       "version_minor": 0
      },
      "text/plain": [
       "Training:   0%|          | 0/434 [00:00<?, ?it/s]"
      ]
     },
     "metadata": {},
     "output_type": "display_data"
    },
    {
     "data": {
      "application/vnd.jupyter.widget-view+json": {
       "model_id": "59de1f5718ac4f8f87293232762b39ed",
       "version_major": 2,
       "version_minor": 0
      },
      "text/plain": [
       "Testing:   0%|          | 0/109 [00:00<?, ?it/s]"
      ]
     },
     "metadata": {},
     "output_type": "display_data"
    },
    {
     "name": "stdout",
     "output_type": "stream",
     "text": [
      "\n",
      "Test set: Average loss: 0.0245, Accuracy: 1555/1736 (90%)\n",
      "\n",
      "Train set: Accuracy: 5270/6941 (76%)\n",
      "\n"
     ]
    },
    {
     "data": {
      "application/vnd.jupyter.widget-view+json": {
       "model_id": "0f374a9f51b84c349699e0468357a9f8",
       "version_major": 2,
       "version_minor": 0
      },
      "text/plain": [
       "Training:   0%|          | 0/434 [00:00<?, ?it/s]"
      ]
     },
     "metadata": {},
     "output_type": "display_data"
    },
    {
     "data": {
      "application/vnd.jupyter.widget-view+json": {
       "model_id": "32c358f33660456facc919b20aff88cb",
       "version_major": 2,
       "version_minor": 0
      },
      "text/plain": [
       "Testing:   0%|          | 0/109 [00:00<?, ?it/s]"
      ]
     },
     "metadata": {},
     "output_type": "display_data"
    },
    {
     "name": "stdout",
     "output_type": "stream",
     "text": [
      "\n",
      "Test set: Average loss: 0.0203, Accuracy: 1596/1736 (92%)\n",
      "\n",
      "Train set: Accuracy: 6423/6941 (93%)\n",
      "\n",
      "Warmup done\n",
      "Training the whole model\n"
     ]
    },
    {
     "name": "stderr",
     "output_type": "stream",
     "text": [
      "\u001b[34m\u001b[1mwandb\u001b[0m: Currently logged in as: \u001b[33miamsuyogjadhav\u001b[0m (\u001b[33mpersonal-suyog\u001b[0m). Use \u001b[1m`wandb login --relogin`\u001b[0m to force relogin\n"
     ]
    },
    {
     "data": {
      "text/html": [
       "Tracking run with wandb version 0.17.8"
      ],
      "text/plain": [
       "<IPython.core.display.HTML object>"
      ]
     },
     "metadata": {},
     "output_type": "display_data"
    },
    {
     "data": {
      "text/html": [
       "Run data is saved locally in <code>/mnt/c/Users/suyog/projects/cellstory/interpret-mito/wandb/run-20240917_182216-ku747buw</code>"
      ],
      "text/plain": [
       "<IPython.core.display.HTML object>"
      ]
     },
     "metadata": {},
     "output_type": "display_data"
    },
    {
     "data": {
      "text/html": [
       "Syncing run <strong><a href='https://wandb.ai/personal-suyog/interpret-mito/runs/ku747buw' target=\"_blank\">splendid-rain-17</a></strong> to <a href='https://wandb.ai/personal-suyog/interpret-mito' target=\"_blank\">Weights & Biases</a> (<a href='https://wandb.me/run' target=\"_blank\">docs</a>)<br/>"
      ],
      "text/plain": [
       "<IPython.core.display.HTML object>"
      ]
     },
     "metadata": {},
     "output_type": "display_data"
    },
    {
     "data": {
      "text/html": [
       " View project at <a href='https://wandb.ai/personal-suyog/interpret-mito' target=\"_blank\">https://wandb.ai/personal-suyog/interpret-mito</a>"
      ],
      "text/plain": [
       "<IPython.core.display.HTML object>"
      ]
     },
     "metadata": {},
     "output_type": "display_data"
    },
    {
     "data": {
      "text/html": [
       " View run at <a href='https://wandb.ai/personal-suyog/interpret-mito/runs/ku747buw' target=\"_blank\">https://wandb.ai/personal-suyog/interpret-mito/runs/ku747buw</a>"
      ],
      "text/plain": [
       "<IPython.core.display.HTML object>"
      ]
     },
     "metadata": {},
     "output_type": "display_data"
    },
    {
     "data": {
      "application/vnd.jupyter.widget-view+json": {
       "model_id": "aecac1da10f74474b0104a93e411e1d6",
       "version_major": 2,
       "version_minor": 0
      },
      "text/plain": [
       "Epochs:   0%|          | 0/10 [00:00<?, ?it/s]"
      ]
     },
     "metadata": {},
     "output_type": "display_data"
    },
    {
     "data": {
      "application/vnd.jupyter.widget-view+json": {
       "model_id": "d399eadbdd3f4044b33dc6277da7e0ec",
       "version_major": 2,
       "version_minor": 0
      },
      "text/plain": [
       "Training:   0%|          | 0/434 [00:00<?, ?it/s]"
      ]
     },
     "metadata": {},
     "output_type": "display_data"
    },
    {
     "data": {
      "application/vnd.jupyter.widget-view+json": {
       "model_id": "de0bb0e6554b4f8b847a7d1e9990d813",
       "version_major": 2,
       "version_minor": 0
      },
      "text/plain": [
       "Testing:   0%|          | 0/109 [00:00<?, ?it/s]"
      ]
     },
     "metadata": {},
     "output_type": "display_data"
    },
    {
     "name": "stdout",
     "output_type": "stream",
     "text": [
      "\n",
      "Test set: Average loss: 0.1388, Accuracy: 845/1736 (49%)\n",
      "\n",
      "Train set: Accuracy: 2782/6941 (40%)\n",
      "\n",
      "Model saved at checkpoints/resnet101-20240917-182215\n"
     ]
    },
    {
     "data": {
      "application/vnd.jupyter.widget-view+json": {
       "model_id": "d01d7b04840146dda8cffb323d22e9fb",
       "version_major": 2,
       "version_minor": 0
      },
      "text/plain": [
       "Training:   0%|          | 0/434 [00:00<?, ?it/s]"
      ]
     },
     "metadata": {},
     "output_type": "display_data"
    },
    {
     "data": {
      "application/vnd.jupyter.widget-view+json": {
       "model_id": "bea768e92ee447a7bf81d80b12bea6fb",
       "version_major": 2,
       "version_minor": 0
      },
      "text/plain": [
       "Testing:   0%|          | 0/109 [00:00<?, ?it/s]"
      ]
     },
     "metadata": {},
     "output_type": "display_data"
    },
    {
     "name": "stdout",
     "output_type": "stream",
     "text": [
      "\n",
      "Test set: Average loss: 0.0856, Accuracy: 1153/1736 (66%)\n",
      "\n",
      "Train set: Accuracy: 4298/6941 (62%)\n",
      "\n",
      "Model saved at checkpoints/resnet101-20240917-182215\n"
     ]
    },
    {
     "data": {
      "application/vnd.jupyter.widget-view+json": {
       "model_id": "64e643069b4a4996a433d2c31f9e813f",
       "version_major": 2,
       "version_minor": 0
      },
      "text/plain": [
       "Training:   0%|          | 0/434 [00:00<?, ?it/s]"
      ]
     },
     "metadata": {},
     "output_type": "display_data"
    },
    {
     "data": {
      "application/vnd.jupyter.widget-view+json": {
       "model_id": "18789b8eaee54efdadbea80129395d99",
       "version_major": 2,
       "version_minor": 0
      },
      "text/plain": [
       "Testing:   0%|          | 0/109 [00:00<?, ?it/s]"
      ]
     },
     "metadata": {},
     "output_type": "display_data"
    },
    {
     "name": "stdout",
     "output_type": "stream",
     "text": [
      "\n",
      "Test set: Average loss: 0.0677, Accuracy: 1247/1736 (72%)\n",
      "\n",
      "Train set: Accuracy: 5172/6941 (75%)\n",
      "\n",
      "Model saved at checkpoints/resnet101-20240917-182215\n"
     ]
    },
    {
     "data": {
      "application/vnd.jupyter.widget-view+json": {
       "model_id": "ccd0c1bd956b419ca8df5543efb2989e",
       "version_major": 2,
       "version_minor": 0
      },
      "text/plain": [
       "Training:   0%|          | 0/434 [00:00<?, ?it/s]"
      ]
     },
     "metadata": {},
     "output_type": "display_data"
    },
    {
     "data": {
      "application/vnd.jupyter.widget-view+json": {
       "model_id": "476c18ff5b54444b968147d8d01da583",
       "version_major": 2,
       "version_minor": 0
      },
      "text/plain": [
       "Testing:   0%|          | 0/109 [00:00<?, ?it/s]"
      ]
     },
     "metadata": {},
     "output_type": "display_data"
    },
    {
     "name": "stdout",
     "output_type": "stream",
     "text": [
      "\n",
      "Test set: Average loss: 0.0674, Accuracy: 1279/1736 (74%)\n",
      "\n",
      "Train set: Accuracy: 5706/6941 (82%)\n",
      "\n",
      "Model saved at checkpoints/resnet101-20240917-182215\n"
     ]
    },
    {
     "data": {
      "application/vnd.jupyter.widget-view+json": {
       "model_id": "70d91561aab5496a8d7e76481a17b83a",
       "version_major": 2,
       "version_minor": 0
      },
      "text/plain": [
       "Training:   0%|          | 0/434 [00:00<?, ?it/s]"
      ]
     },
     "metadata": {},
     "output_type": "display_data"
    },
    {
     "data": {
      "application/vnd.jupyter.widget-view+json": {
       "model_id": "cf2a1997da124d6eab2cc25537a2ff63",
       "version_major": 2,
       "version_minor": 0
      },
      "text/plain": [
       "Testing:   0%|          | 0/109 [00:00<?, ?it/s]"
      ]
     },
     "metadata": {},
     "output_type": "display_data"
    },
    {
     "name": "stdout",
     "output_type": "stream",
     "text": [
      "\n",
      "Test set: Average loss: 0.0509, Accuracy: 1384/1736 (80%)\n",
      "\n",
      "Train set: Accuracy: 6038/6941 (87%)\n",
      "\n",
      "Model saved at checkpoints/resnet101-20240917-182215\n"
     ]
    },
    {
     "data": {
      "application/vnd.jupyter.widget-view+json": {
       "model_id": "15a071ac683444fca0b5ff5d7139dd31",
       "version_major": 2,
       "version_minor": 0
      },
      "text/plain": [
       "Training:   0%|          | 0/434 [00:00<?, ?it/s]"
      ]
     },
     "metadata": {},
     "output_type": "display_data"
    },
    {
     "data": {
      "application/vnd.jupyter.widget-view+json": {
       "model_id": "41c61ddd25a8425c8ae28228eb48d17e",
       "version_major": 2,
       "version_minor": 0
      },
      "text/plain": [
       "Testing:   0%|          | 0/109 [00:00<?, ?it/s]"
      ]
     },
     "metadata": {},
     "output_type": "display_data"
    },
    {
     "name": "stdout",
     "output_type": "stream",
     "text": [
      "\n",
      "Test set: Average loss: 0.0265, Accuracy: 1542/1736 (89%)\n",
      "\n",
      "Train set: Accuracy: 6698/6941 (96%)\n",
      "\n",
      "Model saved at checkpoints/resnet101-20240917-182215\n"
     ]
    },
    {
     "data": {
      "application/vnd.jupyter.widget-view+json": {
       "model_id": "f65cb5f1e774455994660a2092c20fa6",
       "version_major": 2,
       "version_minor": 0
      },
      "text/plain": [
       "Training:   0%|          | 0/434 [00:00<?, ?it/s]"
      ]
     },
     "metadata": {},
     "output_type": "display_data"
    },
    {
     "data": {
      "application/vnd.jupyter.widget-view+json": {
       "model_id": "6104f376fa1f44a890326084da42cc22",
       "version_major": 2,
       "version_minor": 0
      },
      "text/plain": [
       "Testing:   0%|          | 0/109 [00:00<?, ?it/s]"
      ]
     },
     "metadata": {},
     "output_type": "display_data"
    },
    {
     "name": "stdout",
     "output_type": "stream",
     "text": [
      "\n",
      "Test set: Average loss: 0.0256, Accuracy: 1545/1736 (89%)\n",
      "\n",
      "Train set: Accuracy: 6853/6941 (99%)\n",
      "\n",
      "Model saved at checkpoints/resnet101-20240917-182215\n"
     ]
    },
    {
     "data": {
      "application/vnd.jupyter.widget-view+json": {
       "model_id": "23665203fbd44761b958e09499eeabc0",
       "version_major": 2,
       "version_minor": 0
      },
      "text/plain": [
       "Training:   0%|          | 0/434 [00:00<?, ?it/s]"
      ]
     },
     "metadata": {},
     "output_type": "display_data"
    },
    {
     "data": {
      "application/vnd.jupyter.widget-view+json": {
       "model_id": "42302c0c30fc49369890051501325751",
       "version_major": 2,
       "version_minor": 0
      },
      "text/plain": [
       "Testing:   0%|          | 0/109 [00:00<?, ?it/s]"
      ]
     },
     "metadata": {},
     "output_type": "display_data"
    },
    {
     "name": "stdout",
     "output_type": "stream",
     "text": [
      "\n",
      "Test set: Average loss: 0.0258, Accuracy: 1545/1736 (89%)\n",
      "\n",
      "Train set: Accuracy: 6884/6941 (99%)\n",
      "\n"
     ]
    },
    {
     "data": {
      "application/vnd.jupyter.widget-view+json": {
       "model_id": "034847d4ed40457aa3d2fc7b148745af",
       "version_major": 2,
       "version_minor": 0
      },
      "text/plain": [
       "Training:   0%|          | 0/434 [00:00<?, ?it/s]"
      ]
     },
     "metadata": {},
     "output_type": "display_data"
    },
    {
     "data": {
      "application/vnd.jupyter.widget-view+json": {
       "model_id": "d9adea7de2564962acc9c9e1b8dfdb59",
       "version_major": 2,
       "version_minor": 0
      },
      "text/plain": [
       "Testing:   0%|          | 0/109 [00:00<?, ?it/s]"
      ]
     },
     "metadata": {},
     "output_type": "display_data"
    },
    {
     "name": "stdout",
     "output_type": "stream",
     "text": [
      "\n",
      "Test set: Average loss: 0.0262, Accuracy: 1555/1736 (90%)\n",
      "\n",
      "Train set: Accuracy: 6919/6941 (100%)\n",
      "\n",
      "Model saved at checkpoints/resnet101-20240917-182215\n"
     ]
    },
    {
     "data": {
      "application/vnd.jupyter.widget-view+json": {
       "model_id": "18f6e5f6b6ef4abfaddb23cdabb3719b",
       "version_major": 2,
       "version_minor": 0
      },
      "text/plain": [
       "Training:   0%|          | 0/434 [00:00<?, ?it/s]"
      ]
     },
     "metadata": {},
     "output_type": "display_data"
    },
    {
     "data": {
      "application/vnd.jupyter.widget-view+json": {
       "model_id": "f81327bfed1a4e17aed6a77ff1cbc80b",
       "version_major": 2,
       "version_minor": 0
      },
      "text/plain": [
       "Testing:   0%|          | 0/109 [00:00<?, ?it/s]"
      ]
     },
     "metadata": {},
     "output_type": "display_data"
    },
    {
     "name": "stdout",
     "output_type": "stream",
     "text": [
      "\n",
      "Test set: Average loss: 0.0263, Accuracy: 1558/1736 (90%)\n",
      "\n",
      "Train set: Accuracy: 6919/6941 (100%)\n",
      "\n",
      "Model saved at checkpoints/resnet101-20240917-182215\n"
     ]
    }
   ],
   "source": [
    "model = load_model(Config.model)\n",
    "\n",
    "# Warmup just the last layer\n",
    "for param in model.parameters():\n",
    "    param.requires_grad = False\n",
    "for param in model.fc.parameters():\n",
    "    param.requires_grad = True\n",
    "\n",
    "num_epochs = Config.epochs\n",
    "Config.epochs = 2 if Config.model == \"resnet101\" else 1\n",
    "print(\"Warming up the last layer\")\n",
    "train(model, train_loader, test_loader, Config, logging=False)\n",
    "print(\"Warmup done\")\n",
    "\n",
    "# Unfreeze all layers\n",
    "for param in model.parameters():\n",
    "    param.requires_grad = True\n",
    "\n",
    "Config.epochs = num_epochs\n",
    "print(\"Training the whole model\")\n",
    "save_dir = f\"checkpoints/{Config.model}-{datetime.datetime.now().strftime('%Y%m%d-%H%M%S')}\"\n",
    "os.makedirs(save_dir, exist_ok=True)\n",
    "Config.save_dir = save_dir\n",
    "\n",
    "# Wandb logging\n",
    "os.environ['WANDB_NOTEBOOK_NAME'] = 'interpret-resnet.ipynb'\n",
    "wandb.init(\n",
    "    project=\"interpret-mito\",\n",
    "    config={k: v for k, v in vars(Config).items() if not k.startswith(\"__\")},\n",
    "    tags=[Config.model, \"caltech101\"],\n",
    "    resume=False\n",
    ")\n",
    "wandb.watch(model)\n",
    "train(model, train_loader, test_loader, Config, logging=True)\n"
   ]
  },
  {
   "cell_type": "code",
   "execution_count": null,
   "metadata": {},
   "outputs": [],
   "source": []
  }
 ],
 "metadata": {
  "kernelspec": {
   "display_name": "cellstory",
   "language": "python",
   "name": "python3"
  },
  "language_info": {
   "codemirror_mode": {
    "name": "ipython",
    "version": 3
   },
   "file_extension": ".py",
   "mimetype": "text/x-python",
   "name": "python",
   "nbconvert_exporter": "python",
   "pygments_lexer": "ipython3",
   "version": "3.10.0"
  }
 },
 "nbformat": 4,
 "nbformat_minor": 2
}
