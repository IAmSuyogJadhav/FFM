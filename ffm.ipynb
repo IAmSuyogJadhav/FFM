{
 "cells": [
  {
   "cell_type": "markdown",
   "metadata": {},
   "source": [
    "# Imports and Helper Functions"
   ]
  },
  {
   "cell_type": "code",
   "execution_count": 1,
   "metadata": {},
   "outputs": [],
   "source": [
    "import torch\n",
    "import torchvision.models as models\n",
    "import torch.nn as nn\n",
    "import os\n",
    "from torchvision import datasets, transforms\n",
    "from ffm import *\n"
   ]
  },
  {
   "cell_type": "code",
   "execution_count": 2,
   "metadata": {},
   "outputs": [],
   "source": [
    "# Grayscale to RGB transform\n",
    "class GrayscaleToRGB(object):\n",
    "    \"\"\"From https://www.kaggle.com/code/cafalena/caltech101-pytorch-deep-learning\"\"\"\n",
    "    def __call__(self, img):\n",
    "        if img.mode == 'L':\n",
    "            img = img.convert(\"RGB\")\n",
    "        return img\n",
    "\n",
    "transform = transforms.Compose(\n",
    "    [transforms.Resize((224, 224)),\n",
    "    GrayscaleToRGB(),]\n",
    "    )\n",
    "\n",
    "tranform_preprocess = transforms.Compose(\n",
    "    [\n",
    "    transforms.ToTensor(),\n",
    "    transforms.Normalize(mean=[0.485, 0.456, 0.406],\n",
    "                        std=[0.229, 0.224, 0.225])]\n",
    "    )\n",
    "\n",
    "transform_all = transforms.Compose(\n",
    "    [transforms.Resize((224, 224)),\n",
    "    GrayscaleToRGB(),\n",
    "    transforms.ToTensor(),\n",
    "    transforms.Normalize(mean=[0.485, 0.456, 0.406],\n",
    "                        std=[0.229, 0.224, 0.225])]\n",
    "    )\n",
    "\n",
    "# Load Caltech101 dataset\n",
    "def load_data(root='caltech_data', transform=transform):\n",
    "    dataset = datasets.Caltech101(root='caltech_data', download=False, transform=transform)\n",
    "\n",
    "    return dataset\n",
    "\n",
    "# Split dataset into training and testing\n",
    "def split_data(dataset):\n",
    "    train_size = int(0.8 * len(dataset))\n",
    "    test_size = len(dataset) - train_size\n",
    "    train_dataset, test_dataset = torch.utils.data.random_split(dataset, [train_size, test_size], generator=torch.Generator().manual_seed(42))\n",
    "    return train_dataset, test_dataset\n",
    "\n",
    "# Load pretrained ResNet model\n",
    "def load_model(model_name: str):\n",
    "    model = getattr(models, model_name)(pretrained=True)\n",
    "    model.fc = nn.Linear(model.fc.in_features, 101)\n",
    "    return model"
   ]
  },
  {
   "cell_type": "markdown",
   "metadata": {},
   "source": [
    "# FFM Analysis"
   ]
  },
  {
   "cell_type": "code",
   "execution_count": 3,
   "metadata": {},
   "outputs": [],
   "source": [
    "# Load data\n",
    "dataset = load_data(transform=transform)\n",
    "train_dataset, test_dataset = split_data(dataset)\n",
    "\n",
    "model_checkpoints = os.listdir(\"checkpoints\")\n",
    "model_checkpoints = {\n",
    "    'resnet18': [f for f in model_checkpoints if 'resnet18' in f],\n",
    "}"
   ]
  },
  {
   "cell_type": "code",
   "execution_count": 4,
   "metadata": {},
   "outputs": [],
   "source": [
    "# Some examples from the dataset where our model should ideally show:\n",
    "idxs = {\n",
    "    'low_ffm': 190,  # low ffm score (highly confident, incorrect prediction, with consistent explanation for the incorrect prediction)\n",
    "    'moderate_ffm': 8,  # moderate ffm score (correct prediction, but with incorrect/inconsistent explanation for ground truth)\n",
    "    'high_ffm': 6,  # high ffm score (highly confident, correct prediction, with consistent explanation for the ground truth)\n",
    "}\n",
    "\n",
    "# Add more idxs here if you want to see more examples"
   ]
  },
  {
   "cell_type": "code",
   "execution_count": 5,
   "metadata": {},
   "outputs": [
    {
     "name": "stderr",
     "output_type": "stream",
     "text": [
      "/home/suyog/anaconda3/envs/cellstory/lib/python3.10/site-packages/torchvision/models/_utils.py:208: UserWarning: The parameter 'pretrained' is deprecated since 0.13 and may be removed in the future, please use 'weights' instead.\n",
      "  warnings.warn(\n",
      "/home/suyog/anaconda3/envs/cellstory/lib/python3.10/site-packages/torchvision/models/_utils.py:223: UserWarning: Arguments other than a weight enum or `None` for 'weights' are deprecated since 0.13 and may be removed in the future. The current behavior is equivalent to passing `weights=ResNet18_Weights.IMAGENET1K_V1`. You can also use `weights=ResNet18_Weights.DEFAULT` to get the most up-to-date weights.\n",
      "  warnings.warn(msg)\n"
     ]
    },
    {
     "name": "stdout",
     "output_type": "stream",
     "text": [
      "Loaded model from resnet18-20240917-161535\n"
     ]
    },
    {
     "name": "stderr",
     "output_type": "stream",
     "text": [
      "100%|██████████| 16/16 [00:00<00:00, 47.05it/s]\n",
      "100%|██████████| 16/16 [00:00<00:00, 130.62it/s]\n",
      "100%|██████████| 16/16 [00:00<00:00, 60.11it/s]\n",
      "100%|██████████| 16/16 [00:00<00:00, 140.15it/s]\n",
      "100%|██████████| 16/16 [00:00<00:00, 49.93it/s]\n",
      "100%|██████████| 16/16 [00:00<00:00, 44.33it/s]\n"
     ]
    },
    {
     "name": "stdout",
     "output_type": "stream",
     "text": [
      "190th FFM for resnet18: [0.1214497]\n",
      "(is low_ffm)\n",
      "**************************************************\n"
     ]
    },
    {
     "name": "stderr",
     "output_type": "stream",
     "text": [
      "100%|██████████| 16/16 [00:00<00:00, 58.92it/s]\n",
      "100%|██████████| 16/16 [00:00<00:00, 93.34it/s]\n",
      "100%|██████████| 16/16 [00:00<00:00, 46.25it/s]\n",
      "100%|██████████| 16/16 [00:00<00:00, 93.92it/s] \n",
      "100%|██████████| 16/16 [00:00<00:00, 131.15it/s]\n",
      "100%|██████████| 16/16 [00:00<00:00, 65.10it/s]\n"
     ]
    },
    {
     "name": "stdout",
     "output_type": "stream",
     "text": [
      "8th FFM for resnet18: [0.5]\n",
      "(is moderate_ffm)\n",
      "**************************************************\n"
     ]
    },
    {
     "name": "stderr",
     "output_type": "stream",
     "text": [
      "100%|██████████| 16/16 [00:00<00:00, 74.95it/s]\n",
      "100%|██████████| 16/16 [00:00<00:00, 84.30it/s]\n",
      "100%|██████████| 16/16 [00:00<00:00, 78.22it/s]\n",
      "100%|██████████| 16/16 [00:00<00:00, 85.45it/s]\n",
      "100%|██████████| 16/16 [00:00<00:00, 132.73it/s]\n",
      "100%|██████████| 16/16 [00:00<00:00, 78.44it/s]"
     ]
    },
    {
     "name": "stdout",
     "output_type": "stream",
     "text": [
      "6th FFM for resnet18: [0.98805539]\n",
      "(is high_ffm)\n",
      "**************************************************\n"
     ]
    },
    {
     "name": "stderr",
     "output_type": "stream",
     "text": [
      "\n"
     ]
    }
   ],
   "source": [
    "# Load model\n",
    "MODEL = 'resnet18'\n",
    "model = load_model(MODEL).to('cuda')\n",
    "if model_checkpoints[MODEL]:\n",
    "    model.load_state_dict(torch.load(f\"checkpoints/{model_checkpoints[MODEL][0]}/model.pth\"))\n",
    "    print(f\"Loaded model from {model_checkpoints[MODEL][0]}\")\n",
    "else:\n",
    "    print(\"No model checkpoint found, loading pretrained model\")\n",
    "\n",
    "model = model.eval()  # Set model to evaluation mode\n",
    "target_layer = model.layer4[-1]  # Last layer of ResNet18\n",
    "\n",
    "# Compute FFM for each example\n",
    "for key, i in idxs.items():\n",
    "    batch = tranform_preprocess(test_dataset[i][0]).unsqueeze(0).to('cuda')\n",
    "    gt_labels = [test_dataset[i][1]]\n",
    "\n",
    "    # Uncomment the following lines to test on a batch of images\n",
    "    # batch = torch.vstack([batch]*4)\n",
    "    # gt_labels = gt_labels*4\n",
    "\n",
    "    # Compute FFM\n",
    "    ffm_val = compute_ffm(\n",
    "        model=model,\n",
    "        img=batch,\n",
    "        gt_label=gt_labels,\n",
    "        target_layer=target_layer,\n",
    "        reduce='none',\n",
    "        top_k=5,\n",
    "        output_softmax=True,\n",
    "        device='cuda'\n",
    "    )\n",
    "\n",
    "    print(f'{i}th FFM for {MODEL}: {ffm_val}')\n",
    "    print(f'(is {key})')\n",
    "    print('*'*50)\n"
   ]
  },
  {
   "cell_type": "code",
   "execution_count": null,
   "metadata": {},
   "outputs": [],
   "source": []
  }
 ],
 "metadata": {
  "kernelspec": {
   "display_name": "cellstory",
   "language": "python",
   "name": "python3"
  },
  "language_info": {
   "codemirror_mode": {
    "name": "ipython",
    "version": 3
   },
   "file_extension": ".py",
   "mimetype": "text/x-python",
   "name": "python",
   "nbconvert_exporter": "python",
   "pygments_lexer": "ipython3",
   "version": "3.10.0"
  }
 },
 "nbformat": 4,
 "nbformat_minor": 2
}
