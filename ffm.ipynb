{
 "cells": [
  {
   "cell_type": "markdown",
   "metadata": {},
   "source": [
    "# Imports and Helper Functions"
   ]
  },
  {
   "cell_type": "code",
   "execution_count": 1,
   "metadata": {},
   "outputs": [],
   "source": [
    "import torch\n",
    "import torchvision.models as models\n",
    "import torch.nn as nn\n",
    "import os\n",
    "from torchvision import datasets, transforms\n",
    "from tqdm.auto import tqdm\n",
    "from ffm import *\n"
   ]
  },
  {
   "cell_type": "code",
   "execution_count": 2,
   "metadata": {},
   "outputs": [],
   "source": [
    "# Grayscale to RGB transform\n",
    "class GrayscaleToRGB(object):\n",
    "    \"\"\"From https://www.kaggle.com/code/cafalena/caltech101-pytorch-deep-learning\"\"\"\n",
    "    def __call__(self, img):\n",
    "        if img.mode == 'L':\n",
    "            img = img.convert(\"RGB\")\n",
    "        return img\n",
    "\n",
    "transform = transforms.Compose(\n",
    "    [transforms.Resize((224, 224)),\n",
    "    GrayscaleToRGB(),]\n",
    "    )\n",
    "\n",
    "tranform_preprocess = transforms.Compose(\n",
    "    [\n",
    "    transforms.ToTensor(),\n",
    "    transforms.Normalize(mean=[0.485, 0.456, 0.406],\n",
    "                        std=[0.229, 0.224, 0.225])]\n",
    "    )\n",
    "\n",
    "transform_all = transforms.Compose(\n",
    "    [transforms.Resize((224, 224)),\n",
    "    GrayscaleToRGB(),\n",
    "    transforms.ToTensor(),\n",
    "    transforms.Normalize(mean=[0.485, 0.456, 0.406],\n",
    "                        std=[0.229, 0.224, 0.225])]\n",
    "    )\n",
    "\n",
    "# Load Caltech101 dataset\n",
    "def load_data(root='caltech_data', transform=transform):\n",
    "    dataset = datasets.Caltech101(root='caltech_data', download=False, transform=transform)\n",
    "\n",
    "    return dataset\n",
    "\n",
    "# Split dataset into training and testing\n",
    "def split_data(dataset):\n",
    "    train_size = int(0.8 * len(dataset))\n",
    "    test_size = len(dataset) - train_size\n",
    "    train_dataset, test_dataset = torch.utils.data.random_split(dataset, [train_size, test_size], generator=torch.Generator().manual_seed(42))\n",
    "    return train_dataset, test_dataset\n",
    "\n",
    "# Load pretrained ResNet model\n",
    "def load_model(model_name: str):\n",
    "    model = getattr(models, model_name)(pretrained=True)\n",
    "    model.fc = nn.Linear(model.fc.in_features, 101)\n",
    "    return model"
   ]
  },
  {
   "cell_type": "markdown",
   "metadata": {},
   "source": [
    "# FFM Analysis"
   ]
  },
  {
   "cell_type": "code",
   "execution_count": 3,
   "metadata": {},
   "outputs": [],
   "source": [
    "# Load data\n",
    "dataset = load_data(transform=transform)\n",
    "train_dataset, test_dataset = split_data(dataset)\n",
    "\n",
    "model_checkpoints = os.listdir(\"checkpoints\")\n",
    "model_checkpoints = {\n",
    "    'resnet18': [f for f in model_checkpoints if 'resnet18' in f],\n",
    "}"
   ]
  },
  {
   "cell_type": "code",
   "execution_count": 4,
   "metadata": {},
   "outputs": [],
   "source": [
    "# Some examples from the dataset where our model should ideally show:\n",
    "idxs = {\n",
    "    'low_ffm': 190,  # low ffm score (highly confident, incorrect prediction, with consistent explanation for the incorrect prediction)\n",
    "    'moderate_ffm': 8,  # moderate ffm score (correct prediction, but with incorrect/inconsistent explanation for ground truth)\n",
    "    'high_ffm': 6,  # high ffm score (highly confident, correct prediction, with consistent explanation for the ground truth)\n",
    "}"
   ]
  },
  {
   "cell_type": "code",
   "execution_count": 5,
   "metadata": {},
   "outputs": [
    {
     "name": "stderr",
     "output_type": "stream",
     "text": [
      "/home/suyog/anaconda3/envs/cellstory/lib/python3.10/site-packages/torchvision/models/_utils.py:208: UserWarning: The parameter 'pretrained' is deprecated since 0.13 and may be removed in the future, please use 'weights' instead.\n",
      "  warnings.warn(\n",
      "/home/suyog/anaconda3/envs/cellstory/lib/python3.10/site-packages/torchvision/models/_utils.py:223: UserWarning: Arguments other than a weight enum or `None` for 'weights' are deprecated since 0.13 and may be removed in the future. The current behavior is equivalent to passing `weights=ResNet18_Weights.IMAGENET1K_V1`. You can also use `weights=ResNet18_Weights.DEFAULT` to get the most up-to-date weights.\n",
      "  warnings.warn(msg)\n"
     ]
    },
    {
     "name": "stdout",
     "output_type": "stream",
     "text": [
      "Loaded model from resnet18-20240917-161535\n"
     ]
    },
    {
     "name": "stderr",
     "output_type": "stream",
     "text": [
      "100%|██████████| 16/16 [00:00<00:00, 80.64it/s]\n",
      "100%|██████████| 16/16 [00:00<00:00, 92.33it/s]\n",
      "100%|██████████| 16/16 [00:00<00:00, 69.92it/s] \n",
      "100%|██████████| 16/16 [00:00<00:00, 129.25it/s]\n",
      "100%|██████████| 16/16 [00:00<00:00, 53.61it/s]\n",
      "100%|██████████| 16/16 [00:00<00:00, 55.81it/s]\n",
      "100%|██████████| 16/16 [00:00<00:00, 132.79it/s]\n",
      "100%|██████████| 16/16 [00:00<00:00, 73.43it/s]\n",
      "100%|██████████| 16/16 [00:00<00:00, 94.55it/s]\n",
      "100%|██████████| 16/16 [00:00<00:00, 77.73it/s]\n",
      "100%|██████████| 16/16 [00:00<00:00, 95.84it/s]\n",
      "100%|██████████| 16/16 [00:00<00:00, 81.03it/s]\n",
      "100%|██████████| 16/16 [00:00<00:00, 60.15it/s]\n",
      "100%|██████████| 16/16 [00:00<00:00, 59.71it/s]\n",
      "100%|██████████| 16/16 [00:00<00:00, 71.24it/s]\n",
      "100%|██████████| 16/16 [00:00<00:00, 72.86it/s]\n",
      "100%|██████████| 16/16 [00:00<00:00, 71.50it/s]\n",
      "100%|██████████| 16/16 [00:00<00:00, 59.02it/s]\n",
      "100%|██████████| 16/16 [00:00<00:00, 44.54it/s]\n",
      "100%|██████████| 16/16 [00:00<00:00, 59.72it/s]\n",
      "100%|██████████| 16/16 [00:00<00:00, 39.03it/s]\n",
      "100%|██████████| 16/16 [00:00<00:00, 73.97it/s]\n",
      "100%|██████████| 16/16 [00:00<00:00, 65.79it/s]\n",
      "100%|██████████| 16/16 [00:00<00:00, 64.96it/s]\n"
     ]
    },
    {
     "name": "stdout",
     "output_type": "stream",
     "text": [
      "190th FFM for resnet18: [0.12140695 0.12140695 0.12140695 0.12140695]\n",
      "(is low_ffm)\n",
      "**************************************************\n",
      "Loaded model from resnet18-20240917-161535\n"
     ]
    },
    {
     "name": "stderr",
     "output_type": "stream",
     "text": [
      "100%|██████████| 16/16 [00:00<00:00, 56.18it/s] \n",
      "100%|██████████| 16/16 [00:00<00:00, 64.29it/s] \n",
      "100%|██████████| 16/16 [00:00<00:00, 55.48it/s]\n",
      "100%|██████████| 16/16 [00:00<00:00, 55.87it/s]\n",
      "100%|██████████| 16/16 [00:00<00:00, 64.29it/s]\n",
      "100%|██████████| 16/16 [00:00<00:00, 57.90it/s]\n",
      "100%|██████████| 16/16 [00:00<00:00, 92.61it/s]\n",
      "100%|██████████| 16/16 [00:00<00:00, 51.45it/s]\n",
      "100%|██████████| 16/16 [00:00<00:00, 74.99it/s]\n",
      "100%|██████████| 16/16 [00:00<00:00, 94.46it/s]\n",
      "100%|██████████| 16/16 [00:00<00:00, 74.47it/s] \n",
      "100%|██████████| 16/16 [00:00<00:00, 69.52it/s]\n",
      "100%|██████████| 16/16 [00:00<00:00, 51.25it/s]\n",
      "100%|██████████| 16/16 [00:00<00:00, 75.61it/s]\n",
      "100%|██████████| 16/16 [00:00<00:00, 133.47it/s]\n",
      "100%|██████████| 16/16 [00:00<00:00, 53.69it/s]\n",
      "100%|██████████| 16/16 [00:00<00:00, 96.74it/s] \n",
      "100%|██████████| 16/16 [00:00<00:00, 78.37it/s]\n",
      "100%|██████████| 16/16 [00:00<00:00, 74.19it/s]\n",
      "100%|██████████| 16/16 [00:00<00:00, 89.25it/s]\n",
      "100%|██████████| 16/16 [00:00<00:00, 125.00it/s]\n",
      "100%|██████████| 16/16 [00:00<00:00, 133.96it/s]\n",
      "100%|██████████| 16/16 [00:00<00:00, 97.02it/s]\n",
      "100%|██████████| 16/16 [00:00<00:00, 132.78it/s]\n"
     ]
    },
    {
     "name": "stdout",
     "output_type": "stream",
     "text": [
      "8th FFM for resnet18: [0.5 0.5 0.5 0.5]\n",
      "(is moderate_ffm)\n",
      "**************************************************\n",
      "Loaded model from resnet18-20240917-161535\n"
     ]
    },
    {
     "name": "stderr",
     "output_type": "stream",
     "text": [
      "100%|██████████| 16/16 [00:00<00:00, 94.27it/s] \n",
      "100%|██████████| 16/16 [00:00<00:00, 133.12it/s]\n",
      "100%|██████████| 16/16 [00:00<00:00, 97.00it/s]\n",
      "100%|██████████| 16/16 [00:00<00:00, 40.73it/s]\n",
      "100%|██████████| 16/16 [00:00<00:00, 127.44it/s]\n",
      "100%|██████████| 16/16 [00:00<00:00, 132.18it/s]\n",
      "100%|██████████| 16/16 [00:00<00:00, 93.20it/s]\n",
      "100%|██████████| 16/16 [00:00<00:00, 74.71it/s]\n",
      "100%|██████████| 16/16 [00:00<00:00, 96.88it/s] \n",
      "100%|██████████| 16/16 [00:00<00:00, 80.18it/s]\n",
      "100%|██████████| 16/16 [00:00<00:00, 63.18it/s]\n",
      "100%|██████████| 16/16 [00:00<00:00, 78.88it/s] \n",
      "100%|██████████| 16/16 [00:00<00:00, 130.49it/s]\n",
      "100%|██████████| 16/16 [00:00<00:00, 33.19it/s]\n",
      "100%|██████████| 16/16 [00:00<00:00, 94.81it/s]\n",
      "100%|██████████| 16/16 [00:00<00:00, 96.27it/s]\n",
      "100%|██████████| 16/16 [00:00<00:00, 44.80it/s]\n",
      "100%|██████████| 16/16 [00:00<00:00, 134.82it/s]\n",
      "100%|██████████| 16/16 [00:00<00:00, 95.01it/s]\n",
      "100%|██████████| 16/16 [00:00<00:00, 61.80it/s]\n",
      "100%|██████████| 16/16 [00:00<00:00, 54.77it/s]\n",
      "100%|██████████| 16/16 [00:00<00:00, 69.23it/s]\n",
      "100%|██████████| 16/16 [00:00<00:00, 121.38it/s]\n",
      "100%|██████████| 16/16 [00:00<00:00, 92.03it/s]"
     ]
    },
    {
     "name": "stdout",
     "output_type": "stream",
     "text": [
      "6th FFM for resnet18: [0.98805539 0.98805539 0.98805539 0.98805539]\n",
      "(is high_ffm)\n",
      "**************************************************\n"
     ]
    },
    {
     "name": "stderr",
     "output_type": "stream",
     "text": [
      "\n"
     ]
    }
   ],
   "source": [
    "# Load model\n",
    "for key, i in idxs.items():\n",
    "    batch = tranform_preprocess(test_dataset[i][0]).unsqueeze(0).to('cuda')\n",
    "    gt_labels = [test_dataset[i][1]]\n",
    "    batch = torch.vstack([batch]*4)\n",
    "    gt_labels = gt_labels*4\n",
    "    for MODEL in ['resnet18']: #, 'resnet34', 'resnet50', 'resnet101']:\n",
    "        model = load_model(MODEL).to('cuda')\n",
    "        if model_checkpoints[MODEL]:\n",
    "            model.load_state_dict(torch.load(f\"checkpoints/{model_checkpoints[MODEL][0]}/model.pth\"))\n",
    "            print(f\"Loaded model from {model_checkpoints[MODEL][0]}\")\n",
    "        else:\n",
    "            print(\"No model checkpoint found, loading pretrained model\")\n",
    "\n",
    "        model = model.eval()\n",
    "        target_layer = model.layer4[-1]\n",
    "\n",
    "        # Compute FFM\n",
    "        ffm_val = compute_ffm(\n",
    "            model=model,\n",
    "            img=batch,\n",
    "            gt_label=gt_labels,\n",
    "            target_layer=target_layer,\n",
    "            reduce='none',\n",
    "            top_k=5,\n",
    "            output_softmax=True,\n",
    "            device='cuda'\n",
    "        )\n",
    "\n",
    "        print(f'{i}th FFM for {MODEL}: {ffm_val}')\n",
    "        print(f'(is {key})')\n",
    "        print('*'*50)\n"
   ]
  },
  {
   "cell_type": "code",
   "execution_count": 8,
   "metadata": {},
   "outputs": [
    {
     "data": {
      "text/plain": [
       "tensor([[ -5.4258,  -4.2526,  -6.8620,  -2.8648,  -7.3341,  -2.6373,  -5.6172,\n",
       "          -8.0879,  -5.0348,  -8.5480,  -6.0507,  -6.2677,  -5.7136,  -7.2534,\n",
       "          -6.9979,  -5.4202,  -7.2120,  -5.1941,  -2.6403,  10.6820,  -5.9640,\n",
       "          -4.6383,  -6.0485,  -5.3464,  -5.2907,  -5.8720,  -7.9378,  -7.5920,\n",
       "          -6.5769,  -5.8074,  -6.5410,  -7.6310,  -6.2503,  -5.0728,  -6.7955,\n",
       "          -6.6904,  -6.3245,  -5.9103,  -4.1487,  -8.3158,  -2.8990,  -5.8587,\n",
       "          -8.3853, -10.0053,  -6.4801,  -6.6867,  -6.0426,  -7.0230,  -5.7453,\n",
       "          -6.4381,  -4.1114,  -7.5998,  -5.5940,  -7.9528,  -5.5267,  -2.1868,\n",
       "          -8.2595,  -6.3859,  -5.5202,  -7.5451,  -7.2721,  -6.3467,  -7.2371,\n",
       "          -7.1876,  -6.0976,  -6.0309,  -7.8099,  -7.1929,  -6.7158,  -7.9910,\n",
       "          -7.5961,  -6.8759,  -7.4579,  -9.2192,  -6.1122,  -5.8065,  -8.4852,\n",
       "          -9.6949,  -7.9894,  -6.4940,  -7.1667,  -7.0323,  -8.5821,  -8.3945,\n",
       "          -4.6447,  -6.3502,  -7.4648,  -8.3188,  -4.1997,  -7.0940,  -9.0433,\n",
       "         -10.3728,  -7.5027,  -5.8343,  -3.0875,  -7.1300,  -3.7738,  -6.5565,\n",
       "          -9.4373,  -5.0349,  -8.3065],\n",
       "        [ -5.4258,  -4.2526,  -6.8620,  -2.8648,  -7.3341,  -2.6373,  -5.6172,\n",
       "          -8.0879,  -5.0348,  -8.5480,  -6.0507,  -6.2677,  -5.7136,  -7.2534,\n",
       "          -6.9979,  -5.4202,  -7.2120,  -5.1941,  -2.6403,  10.6820,  -5.9640,\n",
       "          -4.6383,  -6.0485,  -5.3464,  -5.2907,  -5.8720,  -7.9378,  -7.5920,\n",
       "          -6.5769,  -5.8074,  -6.5410,  -7.6310,  -6.2503,  -5.0728,  -6.7955,\n",
       "          -6.6904,  -6.3245,  -5.9103,  -4.1487,  -8.3158,  -2.8990,  -5.8587,\n",
       "          -8.3853, -10.0053,  -6.4801,  -6.6867,  -6.0426,  -7.0230,  -5.7453,\n",
       "          -6.4381,  -4.1114,  -7.5998,  -5.5940,  -7.9528,  -5.5267,  -2.1868,\n",
       "          -8.2595,  -6.3859,  -5.5202,  -7.5451,  -7.2721,  -6.3467,  -7.2371,\n",
       "          -7.1876,  -6.0976,  -6.0309,  -7.8099,  -7.1929,  -6.7158,  -7.9910,\n",
       "          -7.5961,  -6.8759,  -7.4579,  -9.2192,  -6.1122,  -5.8065,  -8.4852,\n",
       "          -9.6949,  -7.9894,  -6.4940,  -7.1667,  -7.0323,  -8.5821,  -8.3945,\n",
       "          -4.6447,  -6.3502,  -7.4648,  -8.3188,  -4.1997,  -7.0940,  -9.0433,\n",
       "         -10.3728,  -7.5027,  -5.8343,  -3.0875,  -7.1300,  -3.7738,  -6.5565,\n",
       "          -9.4373,  -5.0349,  -8.3065],\n",
       "        [ -5.4258,  -4.2526,  -6.8620,  -2.8648,  -7.3341,  -2.6373,  -5.6172,\n",
       "          -8.0879,  -5.0348,  -8.5480,  -6.0507,  -6.2677,  -5.7136,  -7.2534,\n",
       "          -6.9979,  -5.4202,  -7.2120,  -5.1941,  -2.6403,  10.6820,  -5.9640,\n",
       "          -4.6383,  -6.0485,  -5.3464,  -5.2907,  -5.8720,  -7.9378,  -7.5920,\n",
       "          -6.5769,  -5.8074,  -6.5410,  -7.6310,  -6.2503,  -5.0728,  -6.7955,\n",
       "          -6.6904,  -6.3245,  -5.9103,  -4.1487,  -8.3158,  -2.8990,  -5.8587,\n",
       "          -8.3853, -10.0053,  -6.4801,  -6.6867,  -6.0426,  -7.0230,  -5.7453,\n",
       "          -6.4381,  -4.1114,  -7.5998,  -5.5940,  -7.9528,  -5.5267,  -2.1868,\n",
       "          -8.2595,  -6.3859,  -5.5202,  -7.5451,  -7.2721,  -6.3467,  -7.2371,\n",
       "          -7.1876,  -6.0976,  -6.0309,  -7.8099,  -7.1929,  -6.7158,  -7.9910,\n",
       "          -7.5961,  -6.8759,  -7.4579,  -9.2192,  -6.1122,  -5.8065,  -8.4852,\n",
       "          -9.6949,  -7.9894,  -6.4940,  -7.1667,  -7.0323,  -8.5821,  -8.3945,\n",
       "          -4.6447,  -6.3502,  -7.4648,  -8.3188,  -4.1997,  -7.0940,  -9.0433,\n",
       "         -10.3728,  -7.5027,  -5.8343,  -3.0875,  -7.1300,  -3.7738,  -6.5565,\n",
       "          -9.4373,  -5.0349,  -8.3065],\n",
       "        [ -5.4258,  -4.2526,  -6.8620,  -2.8648,  -7.3341,  -2.6373,  -5.6172,\n",
       "          -8.0879,  -5.0348,  -8.5480,  -6.0507,  -6.2677,  -5.7136,  -7.2534,\n",
       "          -6.9979,  -5.4202,  -7.2120,  -5.1941,  -2.6403,  10.6820,  -5.9640,\n",
       "          -4.6383,  -6.0485,  -5.3464,  -5.2907,  -5.8720,  -7.9378,  -7.5920,\n",
       "          -6.5769,  -5.8074,  -6.5410,  -7.6310,  -6.2503,  -5.0728,  -6.7955,\n",
       "          -6.6904,  -6.3245,  -5.9103,  -4.1487,  -8.3158,  -2.8990,  -5.8587,\n",
       "          -8.3853, -10.0053,  -6.4801,  -6.6867,  -6.0426,  -7.0230,  -5.7453,\n",
       "          -6.4381,  -4.1114,  -7.5998,  -5.5940,  -7.9528,  -5.5267,  -2.1868,\n",
       "          -8.2595,  -6.3859,  -5.5202,  -7.5451,  -7.2721,  -6.3467,  -7.2371,\n",
       "          -7.1876,  -6.0976,  -6.0309,  -7.8099,  -7.1929,  -6.7158,  -7.9910,\n",
       "          -7.5961,  -6.8759,  -7.4579,  -9.2192,  -6.1122,  -5.8065,  -8.4852,\n",
       "          -9.6949,  -7.9894,  -6.4940,  -7.1667,  -7.0323,  -8.5821,  -8.3945,\n",
       "          -4.6447,  -6.3502,  -7.4648,  -8.3188,  -4.1997,  -7.0940,  -9.0433,\n",
       "         -10.3728,  -7.5027,  -5.8343,  -3.0875,  -7.1300,  -3.7738,  -6.5565,\n",
       "          -9.4373,  -5.0349,  -8.3065]], device='cuda:0',\n",
       "       grad_fn=<AddmmBackward0>)"
      ]
     },
     "execution_count": 8,
     "metadata": {},
     "output_type": "execute_result"
    }
   ],
   "source": [
    "model(batch)"
   ]
  }
 ],
 "metadata": {
  "kernelspec": {
   "display_name": "cellstory",
   "language": "python",
   "name": "python3"
  },
  "language_info": {
   "codemirror_mode": {
    "name": "ipython",
    "version": 3
   },
   "file_extension": ".py",
   "mimetype": "text/x-python",
   "name": "python",
   "nbconvert_exporter": "python",
   "pygments_lexer": "ipython3",
   "version": "3.10.0"
  }
 },
 "nbformat": 4,
 "nbformat_minor": 2
}
